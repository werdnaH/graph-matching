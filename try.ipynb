{
 "cells": [
  {
   "cell_type": "code",
   "execution_count": 1,
   "metadata": {},
   "outputs": [],
   "source": [
    "import numpy as np\n",
    "import random\n",
    "import pandas as pd\n",
    "from datetime import datetime"
   ]
  },
  {
   "cell_type": "code",
   "execution_count": 2,
   "metadata": {},
   "outputs": [],
   "source": [
    "from twin_graphs_generator import generate_twin_graphs\n",
    "from ARG import ARG\n",
    "from graph_matching import pre_compute_compatibility, graph_matching, match_score"
   ]
  },
  {
   "cell_type": "code",
   "execution_count": 3,
   "metadata": {},
   "outputs": [],
   "source": [
    "def run_graph_matching(size=20, weight_range=1, connected_rate=0.5, noise_rate=0.2):\n",
    "    M1, M2, V1, V2, idx1, idx2 = generate_twin_graphs(size=size, weight_range=weight_range, connected_rate=connected_rate, noise_rate=noise_rate)\n",
    "    ARG1 = ARG(M1, V1)\n",
    "    ARG2 = ARG(M2, V2)\n",
    "    C_n, C_e = pre_compute_compatibility( ARG1, ARG2, alpha=1, stochastic=0 )\n",
    "    match_matrix = graph_matching(C_n, C_e)\n",
    "    final_score = match_score(match_matrix, idx1, idx2)\n",
    "    return final_score"
   ]
  },
  {
   "cell_type": "code",
   "execution_count": 4,
   "metadata": {},
   "outputs": [
    {
     "data": {
      "text/plain": [
       "1.0"
      ]
     },
     "execution_count": 4,
     "metadata": {},
     "output_type": "execute_result"
    }
   ],
   "source": [
    "run_graph_matching(size=20, weight_range=1, connected_rate=0.2, noise_rate=0)"
   ]
  },
  {
   "cell_type": "code",
   "execution_count": null,
   "metadata": {},
   "outputs": [],
   "source": [
    "# The result should be saved as a dataframe.\n",
    "size = 20\n",
    "repeat = 20 \n",
    "connected_rate_list = [0.2, 0.3, 0.5]\n",
    "noise_rate_list = [0, 0.1, 0.2, 0.3, 0.5]\n",
    "acc_mean = np.zeros([len(connected_rate_list), len(noise_rate_list)])\n",
    "acc_std = np.zeros([len(connected_rate_list), len(noise_rate_list)])\n",
    "time_mean = np.zeros([len(connected_rate_list), len(noise_rate_list)])\n",
    "time_std = np.zeros([len(connected_rate_list), len(noise_rate_list)])\n",
    "for i in range(len(connected_rate_list)):\n",
    "    for j in range(len(noise_rate_list)):\n",
    "        acc = np.zeros(repeat)\n",
    "        time = np.zeros(repeat)\n",
    "        for rep in range(repeat):\n",
    "            start = datetime.now()\n",
    "            acc[rep] = run_graph_matching(size=size, weight_range=1, connected_rate=connected_rate_list[i], noise_rate=noise_rate_list[j])\n",
    "            end = datetime.now()\n",
    "            time[rep] = (end-start).seconds\n",
    "        print(str(end) + ' | ' + 'c_rate: '+ str(connected_rate_list[i]) + ' | ' + 'n_rate: '+ str(noise_rate_list[j]))\n",
    "        print(str(np.mean(acc))+' | ' + str(np.std(acc)) + ' | ' + str(np.mean(time))+' | ' + str(np.std(time)))    \n",
    "        acc_mean[i,j] = np.mean(acc)\n",
    "        acc_std[i,j] = np.std(acc)\n",
    "        time_mean[i,j] = np.mean(time)\n",
    "        time_std[i,j] = np.std(time)\n",
    "acc_mean = pd.DataFrame(acc_mean,columns=noise_rate_list, index=connected_rate_list)\n",
    "acc_std = pd.DataFrame(acc_std,columns=noise_rate_list, index=connected_rate_list)\n",
    "time_mean = pd.DataFrame(time_mean,columns=noise_rate_list, index=connected_rate_list)\n",
    "time_std = pd.DataFrame(time_std,columns=noise_rate_list, index=connected_rate_list)"
   ]
  },
  {
   "cell_type": "code",
   "execution_count": 6,
   "metadata": {},
   "outputs": [],
   "source": [
    "acc_mean.to_csv(\"acc_mean_m1.csv\")\n",
    "acc_std.to_csv(\"acc_std_m1.csv\")\n",
    "time_mean.to_csv(\"time_mean_m1.csv\")\n",
    "time_std.to_csv(\"time_std_m1.csv\")\n"
   ]
  },
  {
   "cell_type": "code",
   "execution_count": 8,
   "metadata": {},
   "outputs": [],
   "source": [
    "import matplotlib.pyplot as plt"
   ]
  },
  {
   "cell_type": "code",
   "execution_count": 7,
   "metadata": {},
   "outputs": [
    {
     "data": {
      "text/html": [
       "<div>\n",
       "<style scoped>\n",
       "    .dataframe tbody tr th:only-of-type {\n",
       "        vertical-align: middle;\n",
       "    }\n",
       "\n",
       "    .dataframe tbody tr th {\n",
       "        vertical-align: top;\n",
       "    }\n",
       "\n",
       "    .dataframe thead th {\n",
       "        text-align: right;\n",
       "    }\n",
       "</style>\n",
       "<table border=\"1\" class=\"dataframe\">\n",
       "  <thead>\n",
       "    <tr style=\"text-align: right;\">\n",
       "      <th></th>\n",
       "      <th>0.0</th>\n",
       "      <th>0.1</th>\n",
       "      <th>0.2</th>\n",
       "      <th>0.3</th>\n",
       "      <th>0.5</th>\n",
       "    </tr>\n",
       "  </thead>\n",
       "  <tbody>\n",
       "    <tr>\n",
       "      <td>0.2</td>\n",
       "      <td>1.0</td>\n",
       "      <td>0.964580</td>\n",
       "      <td>0.875222</td>\n",
       "      <td>0.835395</td>\n",
       "      <td>0.313266</td>\n",
       "    </tr>\n",
       "    <tr>\n",
       "      <td>0.3</td>\n",
       "      <td>1.0</td>\n",
       "      <td>0.960188</td>\n",
       "      <td>0.907887</td>\n",
       "      <td>0.817965</td>\n",
       "      <td>0.378039</td>\n",
       "    </tr>\n",
       "    <tr>\n",
       "      <td>0.5</td>\n",
       "      <td>1.0</td>\n",
       "      <td>0.994987</td>\n",
       "      <td>0.924188</td>\n",
       "      <td>0.914681</td>\n",
       "      <td>0.477151</td>\n",
       "    </tr>\n",
       "  </tbody>\n",
       "</table>\n",
       "</div>"
      ],
      "text/plain": [
       "     0.0       0.1       0.2       0.3       0.5\n",
       "0.2  1.0  0.964580  0.875222  0.835395  0.313266\n",
       "0.3  1.0  0.960188  0.907887  0.817965  0.378039\n",
       "0.5  1.0  0.994987  0.924188  0.914681  0.477151"
      ]
     },
     "execution_count": 7,
     "metadata": {},
     "output_type": "execute_result"
    }
   ],
   "source": [
    "acc_mean"
   ]
  },
  {
   "cell_type": "code",
   "execution_count": 10,
   "metadata": {},
   "outputs": [],
   "source": [
    "x = range(5)"
   ]
  },
  {
   "cell_type": "code",
   "execution_count": 20,
   "metadata": {},
   "outputs": [
    {
     "data": {
      "image/png": "[encoded data removed]",
      "text/plain": [
       "<Figure size 432x288 with 1 Axes>"
      ]
     },
     "metadata": {
      "needs_background": "light"
     },
     "output_type": "display_data"
    }
   ],
   "source": [
    "\n",
    "plt.plot(x,acc_mean.iloc[0],label = 'connected_rate=0.2', color = 'r', marker = '+')\n",
    "plt.plot(x,acc_mean.iloc[1],label = 'connected_rate=0.3', color = 'b', marker = '+')\n",
    "plt.plot(x,acc_mean.iloc[2],label = 'connected_rate=0.5', color = 'g', marker = '+')\n",
    "plt.xticks(x, ('0.0','0.1','0.2','0.3','0.5'))\n",
    "plt.xlabel('noise rate')\n",
    "plt.ylabel('accuracy')\n",
    "plt.title('Graph matching on edges deleted case')\n",
    "plt.legend()\n",
    "plt.show()"
   ]
  },
  {
   "cell_type": "code",
   "execution_count": 11,
   "metadata": {},
   "outputs": [
    {
     "data": {
      "image/png": "[encoded data removed]",
      "text/plain": [
       "<Figure size 432x288 with 1 Axes>"
      ]
     },
     "metadata": {
      "needs_background": "light"
     },
     "output_type": "display_data"
    }
   ],
   "source": [
    "\n",
    "plt.plot(x,acc_mean.iloc[0],label = 'connected_rate=0.2', color = 'r', marker = '+')\n",
    "plt.plot(x,acc_mean.iloc[1],label = 'connected_rate=0.3', color = 'b', marker = '+')\n",
    "plt.plot(x,acc_mean.iloc[2],label = 'connected_rate=0.5', color = 'g', marker = '+')\n",
    "plt.xticks(x, ('0.0','0.1','0.2','0.3','0.5'))\n",
    "plt.xlabel('noise rate')\n",
    "plt.ylabel('accuracy')\n",
    "plt.title('Graph matching on attributes distubed case')\n",
    "plt.legend()\n",
    "plt.show()"
   ]
  },
  {
   "cell_type": "code",
   "execution_count": 21,
   "metadata": {},
   "outputs": [],
   "source": [
    "df = pd.read_csv('time_std_m2.csv',index_col=0) "
   ]
  },
  {
   "cell_type": "code",
   "execution_count": 22,
   "metadata": {},
   "outputs": [
    {
     "name": "stdout",
     "output_type": "stream",
     "text": [
      "0.2 & 0.0000 & 0.3000 & 0.5723 & 0.8529 & 2.3974 \\\\\n",
      "0.3 & 0.0000 & 0.4000 & 0.8660 & 4.3715 & 2.4140 \\\\\n",
      "0.5 & 0.3000 & 0.4000 & 1.9079 & 2.6944 & 8.1173 \\\\\n",
      "\\hline\n"
     ]
    }
   ],
   "source": [
    "pp = np.array(df)\n",
    "\n",
    "for i in range(3):\n",
    "    print(connected_rate_list[i], end = '')\n",
    "    for j in range(5):\n",
    "        print(' & ' + '%.4f'%pp[i,j], end ='')\n",
    "    print(' \\\\\\\\')\n",
    "print('\\\\hline')\n",
    "\n"
   ]
  },
  {
   "cell_type": "code",
   "execution_count": null,
   "metadata": {},
   "outputs": [],
   "source": []
  }
 ],
 "metadata": {
  "kernelspec": {
   "display_name": "Python 3",
   "language": "python",
   "name": "python3"
  },
  "language_info": {
   "codemirror_mode": {
    "name": "ipython",
    "version": 3
   },
   "file_extension": ".py",
   "mimetype": "text/x-python",
   "name": "python",
   "nbconvert_exporter": "python",
   "pygments_lexer": "ipython3",
   "version": "3.7.4"
  }
 },
 "nbformat": 4,
 "nbformat_minor": 2
}
